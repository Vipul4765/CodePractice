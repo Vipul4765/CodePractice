{
 "cells": [
  {
   "cell_type": "markdown",
   "id": "4ca92461",
   "metadata": {},
   "source": [
    "# Python's object oriented programming\n"
   ]
  },
  {
   "cell_type": "raw",
   "id": "bfbdf102",
   "metadata": {},
   "source": [
    "There are three important in oops:-\n",
    "1. Class\n",
    "2. Object\n",
    "3. Reference Variable\n",
    "\n",
    "What is class?\n",
    "Class is basically a plan or class is a blueprint or design or template of object.\n",
    "Class represent the object the properties(attributes) and action(Behaviours) of an object.\n",
    "\n",
    "What is Object?\n",
    "Object is an instance of class\n",
    "object is a physical existence of a class.\n",
    "We can create any number of object for a class.\n",
    "\n",
    "Reference Variable\n",
    "Reference variable are used to perform a particular task.\n",
    "By using reference variable we can access the properties and method of object.\n",
    "\n",
    "How many reference variable per object?\n",
    "Many/Any number of variable.\n"
   ]
  },
  {
   "cell_type": "raw",
   "id": "8918534c",
   "metadata": {},
   "source": [
    "Static variables  vs  Instance variables\n",
    "Static variable - Static variable is not varies from object to object. We have to declare static variable at class level .\n",
    "Instance variable - Instance variable is varies from object to object and for every object a separate copy is created.\n",
    "\n",
    "In instance variable for every object separate copy is created but in static variable only one copy is created."
   ]
  },
  {
   "cell_type": "markdown",
   "id": "b2f3f25d",
   "metadata": {},
   "source": [
    "# Various places where we declare static variable :-"
   ]
  },
  {
   "cell_type": "raw",
   "id": "31b2396c",
   "metadata": {},
   "source": [
    "1.Within the class directly , but outside of constructor.\n",
    "2.Inside constructor by using classname.\n",
    "3.Inside instance method by using class name.\n",
    "4.Inside class method using by using cls or classname.\n",
    "5.Inside static method by using classname.\n",
    "6.Outside of class by using classname."
   ]
  },
  {
   "cell_type": "code",
   "execution_count": 14,
   "id": "72b2ee06",
   "metadata": {},
   "outputs": [
    {
     "name": "stdout",
     "output_type": "stream",
     "text": [
      "{'__module__': '__main__', 'a': 10, 'm1': <function test.m1 at 0x000001A7B23AB400>, '__init__': <function test.__init__ at 0x000001A7B244CAF0>, 'm2': <classmethod(<function test.m2 at 0x000001A7B244CEE0>)>, 'm3': <staticmethod(<function test.m3 at 0x000001A7B244CA60>)>, '__dict__': <attribute '__dict__' of 'test' objects>, '__weakref__': <attribute '__weakref__' of 'test' objects>, '__doc__': None, 'g': 70, 'c': 12, 'b': 11, 'd': 40, 'e': 50, 'f': 60}\n"
     ]
    }
   ],
   "source": [
    "class test:\n",
    "    a = 10  #decalaration of static variable outside the class\n",
    "    \n",
    "    def m1(self):\n",
    "           test.b = 11   #declaration of static variable inside method by using classname\n",
    "    \n",
    "    def __init__(self):\n",
    "        test.c = 12  #decalaration of static variable inside constructor using classname\n",
    "        \n",
    "    @classmethod  #declaration of static variable using classmethod\n",
    "    def m2(cls):\n",
    "           cls.d = 40\n",
    "           test.e = 50\n",
    "           \n",
    "    @staticmethod  #declarartion of static variable usong static variable\n",
    "    def m3():\n",
    "           test.f = 60\n",
    "           \n",
    "test.g = 70  #declaration of static variable outside the class or constructor\n",
    "           \n",
    "T = test()  #creating object\n",
    "T.m1()\n",
    "test.m2()\n",
    "test.m3()\n",
    "print(test.__dict__)\n",
    "        \n",
    "    "
   ]
  },
  {
   "cell_type": "markdown",
   "id": "154cd03c",
   "metadata": {},
   "source": [
    "# Setter and Getter function"
   ]
  },
  {
   "cell_type": "raw",
   "id": "2d64284d",
   "metadata": {},
   "source": [
    "We can set and get the value of instance variable by using getter and setter function\n",
    "Setter function - To set the values of instance variables\n",
    "It is also known as mutator method\n",
    "\n",
    "Getter function - To get the values of instance variable\n",
    "It is also known as Accessor method"
   ]
  },
  {
   "cell_type": "code",
   "execution_count": 45,
   "id": "a699c7f7",
   "metadata": {},
   "outputs": [],
   "source": [
    "class student:\n",
    "    def setname(self,name):\n",
    "        self.name = name\n",
    "    \n",
    "    def getname(self):\n",
    "        return self.name\n",
    "    \n",
    "    def setmark(self,mark):\n",
    "        self.mark = mark\n",
    "        \n",
    "    def getmark(self):\n",
    "        return self.mark"
   ]
  },
  {
   "cell_type": "code",
   "execution_count": 46,
   "id": "b77dc8d4",
   "metadata": {},
   "outputs": [
    {
     "name": "stdout",
     "output_type": "stream",
     "text": [
      "Enter number of student : 5\n",
      "Enter the name of student : tommy\n",
      "Enter the marks of student :100\n",
      "Enter the name of student : vipul\n",
      "Enter the marks of student :95\n",
      "Enter the name of student : vishu\n",
      "Enter the marks of student :100\n",
      "Enter the name of student : kapil\n",
      "Enter the marks of student :100\n",
      "Enter the name of student : nnnn\n",
      "Enter the marks of student :90\n",
      "Hello :  tommy\n",
      "Your marks :  100\n",
      "\n",
      "Hello :  vipul\n",
      "Your marks :  95\n",
      "\n",
      "Hello :  vishu\n",
      "Your marks :  100\n",
      "\n",
      "Hello :  kapil\n",
      "Your marks :  100\n",
      "\n",
      "Hello :  nnnn\n",
      "Your marks :  90\n",
      "\n"
     ]
    }
   ],
   "source": [
    "n = int(input('Enter number of student : '))\n",
    "students = []\n",
    "for i in range(n):\n",
    "    s = student()\n",
    "    name = input(\"Enter the name of student : \")\n",
    "    marks = int(input(\"Enter the marks of student :\"))\n",
    "    s.setname(name)\n",
    "    s.setmark(marks)\n",
    "    students.append(s)\n",
    "    \n",
    "for s in students:\n",
    "    print(\"Hello : \",s.getname())\n",
    "    print(\"Your marks : \",s.getmark())\n",
    "    print()\n"
   ]
  },
  {
   "cell_type": "raw",
   "id": "8ce3115f",
   "metadata": {},
   "source": [
    "Why we use self in object programming?\n",
    "self is nothing but self is current object that is created.\n",
    "In place of self we use anything like kelf, delf, or other word like river , vipul etc "
   ]
  },
  {
   "cell_type": "code",
   "execution_count": 60,
   "id": "c0f029c2",
   "metadata": {},
   "outputs": [],
   "source": [
    "class student:\n",
    "    def __init__(vipul,names,roll_no,marks):\n",
    "            vipul.name = names\n",
    "            vipul.roll_no = roll_no\n",
    "            vipul.marks = marks\n",
    "            \n",
    "    def talk(dhankar):\n",
    "        print('your name is :',dhankar.name)\n",
    "        print('your roll_no :',dhankar.roll_no)\n",
    "        print('Your marks :',dhankar.marks)"
   ]
  },
  {
   "cell_type": "code",
   "execution_count": 61,
   "id": "82da6595",
   "metadata": {},
   "outputs": [
    {
     "name": "stdout",
     "output_type": "stream",
     "text": [
      "your name is : vipul\n",
      "your roll_no : 143\n",
      "Your marks : 94\n"
     ]
    }
   ],
   "source": [
    "s = student(\"vipul\",143,94)  #creating object\n",
    "s.talk()"
   ]
  },
  {
   "cell_type": "markdown",
   "id": "a3461c8c",
   "metadata": {},
   "source": [
    "# Self Variables\n"
   ]
  },
  {
   "cell_type": "raw",
   "id": "92cd4708",
   "metadata": {},
   "source": [
    "1.Within the python class to refer current object, some variables must be required which is nothing but self.\n",
    "2.Self is reference variable always positioning to current object.\n",
    "3.The first argument to the constructor and instance method is alway is self.\n",
    "4.Self is not a keyword and instead of 'self' we can use any name like delf,kelf,river,mountain etc anything. But recommended to we self.\n",
    "5. Argument are dummy variable they are just like hold data."
   ]
  },
  {
   "cell_type": "markdown",
   "id": "404b07dc",
   "metadata": {},
   "source": [
    "# Instance Varaible\n"
   ]
  },
  {
   "cell_type": "raw",
   "id": "4a6c9a06",
   "metadata": {},
   "source": [
    "Instance variable are reference to the particular object.\n"
   ]
  },
  {
   "cell_type": "code",
   "execution_count": 65,
   "id": "95bc56d8",
   "metadata": {},
   "outputs": [
    {
     "name": "stdout",
     "output_type": "stream",
     "text": [
      "Enter number of students : 5\n",
      "Enter the student name : vipul\n",
      "Enter marks : 100\n",
      "Hi vipul\n",
      "Your marks is  100\n",
      "A+\n",
      "Enter the student name : kapil \n",
      "Enter marks : 100\n",
      "Hi kapil \n",
      "Your marks is  100\n",
      "A+\n",
      "Enter the student name : tommy\n",
      "Enter marks : 100\n",
      "Hi tommy\n",
      "Your marks is  100\n",
      "A+\n",
      "Enter the student name : vishu\n",
      "Enter marks : 100\n",
      "Hi vishu\n",
      "Your marks is  100\n",
      "A+\n",
      "Enter the student name : aann\n",
      "Enter marks : 100\n",
      "Hi aann\n",
      "Your marks is  100\n",
      "A+\n"
     ]
    }
   ],
   "source": [
    "class student:\n",
    "    def __init__(self,name,marks):\n",
    "        self.name = name\n",
    "        self.marks = marks\n",
    "    \n",
    "    def display(self):\n",
    "        print('Hi',self.name)\n",
    "        print('Your marks is ',self.marks)\n",
    "        \n",
    "    def grade(self):\n",
    "        if self.marks >= 60:\n",
    "            print(\"A+\")\n",
    "        elif self.marks >= 50:\n",
    "            print(\"B\")\n",
    "        elif self.marks >= 40:\n",
    "            print(\"C\")\n",
    "        else:\n",
    "            print('Fail')\n",
    "            \n",
    "n = int(input(\"Enter number of students : \"))\n",
    "for i in range(n):\n",
    "    name = input(\"Enter the student name : \")\n",
    "    marks = int(input(\"Enter marks : \"))\n",
    "    s = student(name,marks)\n",
    "    s.display()\n",
    "    s.grade()\n"
   ]
  },
  {
   "cell_type": "markdown",
   "id": "848161ef",
   "metadata": {},
   "source": [
    "# How to access, delete and update instance variable"
   ]
  },
  {
   "cell_type": "raw",
   "id": "663c1979",
   "metadata": {},
   "source": [
    "In class - we use self\n",
    "Outside class - By using object reference"
   ]
  },
  {
   "cell_type": "code",
   "execution_count": 66,
   "id": "2aebfc70",
   "metadata": {},
   "outputs": [],
   "source": [
    "class Test:\n",
    "    def __init__(self):\n",
    "        self.a = 10\n",
    "        self.b = 20\n",
    "    \n",
    "    def display(self):\n",
    "        print(self.a)\n",
    "        print(self.b)"
   ]
  },
  {
   "cell_type": "code",
   "execution_count": 68,
   "id": "baccde43",
   "metadata": {},
   "outputs": [
    {
     "name": "stdout",
     "output_type": "stream",
     "text": [
      "10\n",
      "20\n",
      "10\n",
      "20\n"
     ]
    }
   ],
   "source": [
    "t = Test()\n",
    "t.display()\n",
    "print(t.a) #object reference\n",
    "print(t.b) #object reference\n"
   ]
  },
  {
   "cell_type": "raw",
   "id": "537f9f5f",
   "metadata": {},
   "source": [
    "Within the class, we can access instance variable variable by using self\n",
    "But outside of the class, we can access by using object reference"
   ]
  },
  {
   "cell_type": "code",
   "execution_count": 69,
   "id": "dcd90fb1",
   "metadata": {},
   "outputs": [],
   "source": [
    "#How we delete the instance variable within class or outside in class"
   ]
  },
  {
   "cell_type": "code",
   "execution_count": 77,
   "id": "55f092b6",
   "metadata": {},
   "outputs": [
    {
     "name": "stdout",
     "output_type": "stream",
     "text": [
      "10\n",
      "20\n",
      "10\n"
     ]
    }
   ],
   "source": [
    "class Test:\n",
    "    def __init__(self):\n",
    "        self.a = 10\n",
    "        self.b = 20\n",
    "        #del self.b\n",
    "    \n",
    "    def display(self):\n",
    "        print(self.a)\n",
    "        print(self.b)\n",
    "        \n",
    "\n",
    "t = Test()\n",
    "t.display()\n",
    "print(t.a) #object reference\n",
    "del t.b"
   ]
  },
  {
   "cell_type": "code",
   "execution_count": 80,
   "id": "26118269",
   "metadata": {},
   "outputs": [
    {
     "name": "stdout",
     "output_type": "stream",
     "text": [
      "{'c': 40, 'd': 50}\n"
     ]
    }
   ],
   "source": [
    "class test:\n",
    "    def __init__(self):\n",
    "        self.a = 20\n",
    "        self.b = 30\n",
    "        self.c = 40\n",
    "        self.d = 50\n",
    "    \n",
    "    def m1(self):\n",
    "        del self.a\n",
    "        \n",
    "t1 = test()\n",
    "t1.m1()\n",
    "del t1.b\n",
    "print(t1.__dict__)"
   ]
  },
  {
   "cell_type": "code",
   "execution_count": 88,
   "id": "0dee737b",
   "metadata": {},
   "outputs": [
    {
     "name": "stdout",
     "output_type": "stream",
     "text": [
      "The address of self :  1819734532944\n",
      "The address of t1   :  1819734532944\n",
      "The address of self :  1819734532944\n"
     ]
    }
   ],
   "source": [
    "class test:\n",
    "    def __init__(self):\n",
    "        print(\"The address of self : \", id(self))\n",
    "    \n",
    "    def m1(self):\n",
    "        print(\"The address of self : \",id(self))\n",
    "        \n",
    "t1 = test()\n",
    "print(\"The address of t1   : \",id(t1))\n",
    "t1.m1()\n"
   ]
  },
  {
   "cell_type": "markdown",
   "id": "244c24d7",
   "metadata": {},
   "source": [
    "# Given Arugment value to the constructor"
   ]
  },
  {
   "cell_type": "code",
   "execution_count": 97,
   "id": "900619e7",
   "metadata": {},
   "outputs": [],
   "source": [
    "class vipul:\n",
    "    def __init__(self):\n",
    "        print(\"Hello, Vipul \")\n",
    "    \n",
    "    def m1(self,x):\n",
    "        print(\"The value of x is\",x)"
   ]
  },
  {
   "cell_type": "code",
   "execution_count": 98,
   "id": "18a6c52b",
   "metadata": {},
   "outputs": [
    {
     "name": "stdout",
     "output_type": "stream",
     "text": [
      "Hello, Vipul \n",
      "The value of x is 23\n"
     ]
    }
   ],
   "source": [
    "v = vipul()\n",
    "v.m1(23)\n"
   ]
  },
  {
   "cell_type": "code",
   "execution_count": 112,
   "id": "087b3d24",
   "metadata": {},
   "outputs": [],
   "source": [
    "class dhankar:\n",
    "    def __init__(self):\n",
    "        self.a = 10\n",
    "        self.b = 20\n",
    "\n",
    "        "
   ]
  },
  {
   "cell_type": "code",
   "execution_count": 117,
   "id": "68c678c3",
   "metadata": {},
   "outputs": [
    {
     "name": "stdout",
     "output_type": "stream",
     "text": [
      "For object d1 :  30 40\n",
      "For object d2 :  10 20\n"
     ]
    }
   ],
   "source": [
    "d = dhankar()\n",
    "d.a = 30\n",
    "d.b = 40\n",
    "print('For object d1 : ',d.a,d.b)\n",
    "\n",
    "d2 = dhankar()\n",
    "print('For object d2 : ',d2.a,d2.b)\n"
   ]
  },
  {
   "cell_type": "code",
   "execution_count": null,
   "id": "b1adc5ee",
   "metadata": {},
   "outputs": [],
   "source": []
  },
  {
   "cell_type": "code",
   "execution_count": null,
   "id": "7c4324ea",
   "metadata": {},
   "outputs": [],
   "source": []
  }
 ],
 "metadata": {
  "kernelspec": {
   "display_name": "Python 3 (ipykernel)",
   "language": "python",
   "name": "python3"
  },
  "language_info": {
   "codemirror_mode": {
    "name": "ipython",
    "version": 3
   },
   "file_extension": ".py",
   "mimetype": "text/x-python",
   "name": "python",
   "nbconvert_exporter": "python",
   "pygments_lexer": "ipython3",
   "version": "3.10.6"
  }
 },
 "nbformat": 4,
 "nbformat_minor": 5
}
